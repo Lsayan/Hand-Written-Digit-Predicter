{
 "cells": [
  {
   "cell_type": "markdown",
   "id": "d20bd7bf",
   "metadata": {},
   "source": [
    "# HAND WRITTEN DIGIT RECOGNITION :-"
   ]
  },
  {
   "cell_type": "code",
   "execution_count": 1,
   "id": "03ce028d",
   "metadata": {},
   "outputs": [],
   "source": [
    "#importing the libraries\n",
    "import matplotlib.pyplot as plt #for displaying images\n",
    "import matplotlib.image as mpimg\n",
    "import numpy as np #numpy arrays\n",
    "import os #for importing directories\n",
    "import PIL #for images\n",
    "import tensorflow as tf\n",
    "\n",
    "from tensorflow import keras #keras api is being used\n",
    "from tensorflow.keras import layers, datasets, models\n",
    "from tensorflow.keras.models import Sequential #for sequential creation of layers"
   ]
  },
  {
   "cell_type": "markdown",
   "id": "df93e950",
   "metadata": {},
   "source": [
    "# Preparing Dataset :-"
   ]
  },
  {
   "cell_type": "code",
   "execution_count": 2,
   "id": "b755e807",
   "metadata": {},
   "outputs": [
    {
     "name": "stdout",
     "output_type": "stream",
     "text": [
      "(60000, 28, 28)\n",
      "(60000,)\n",
      "(10000, 28, 28)\n",
      "(10000,)\n"
     ]
    }
   ],
   "source": [
    "(train_img,train_label), (test_img,test_label) = datasets.mnist.load_data()\n",
    "\n",
    "print(train_img.shape) #for seeing the shape of the train data set\n",
    "print(train_label.shape) \n",
    "print(test_img.shape)  #for seeing the shape of the test data set\n",
    "print(test_label.shape)"
   ]
  },
  {
   "cell_type": "code",
   "execution_count": 3,
   "id": "23a8584c",
   "metadata": {},
   "outputs": [],
   "source": [
    "#There are 60000 training and 10000 test set\n",
    "#size of the image is 28*28"
   ]
  },
  {
   "cell_type": "code",
   "execution_count": 4,
   "id": "aa874024",
   "metadata": {},
   "outputs": [],
   "source": [
    "#Now reshaping the images\n",
    "train_img = train_img.reshape((60000,28,28,1))\n",
    "test_img = test_img.reshape((10000,28,28,1))\n",
    "#reshaped into 4D as it will be easier to build convolutional layes in Keras"
   ]
  },
  {
   "cell_type": "code",
   "execution_count": 5,
   "id": "074f6a66",
   "metadata": {},
   "outputs": [
    {
     "name": "stdout",
     "output_type": "stream",
     "text": [
      "Train Image:  (60000, 28, 28, 1)\n",
      "Test Image:  (10000, 28, 28, 1)\n"
     ]
    }
   ],
   "source": [
    "#Normalizing pixel values between 0 and 1\n",
    "train_img, test_img = train_img/255.0, test_img/255.0\n",
    "\n",
    "print('Train Image: ', train_img.shape)\n",
    "print('Test Image: ', test_img.shape)"
   ]
  },
  {
   "cell_type": "code",
   "execution_count": 6,
   "id": "f74ebf42",
   "metadata": {},
   "outputs": [
    {
     "data": {
      "text/plain": [
       "array([0, 1, 2, 3, 4, 5, 6, 7, 8, 9], dtype=uint8)"
      ]
     },
     "execution_count": 6,
     "metadata": {},
     "output_type": "execute_result"
    }
   ],
   "source": [
    "np.unique(train_label,return_counts=False)"
   ]
  },
  {
   "cell_type": "code",
   "execution_count": 7,
   "id": "33d2b569",
   "metadata": {},
   "outputs": [
    {
     "data": {
      "text/plain": [
       "array([0, 1, 2, 3, 4, 5, 6, 7, 8, 9], dtype=uint8)"
      ]
     },
     "execution_count": 7,
     "metadata": {},
     "output_type": "execute_result"
    }
   ],
   "source": [
    "np.unique(test_label,return_counts=False)"
   ]
  },
  {
   "cell_type": "code",
   "execution_count": 8,
   "id": "e2a57617",
   "metadata": {},
   "outputs": [],
   "source": [
    "#Total 10 classes in the label set"
   ]
  },
  {
   "cell_type": "code",
   "execution_count": 9,
   "id": "f0625e5f",
   "metadata": {},
   "outputs": [],
   "source": [
    "digits = 10 #different classes\n",
    "img_height = 28\n",
    "img_width = 28\n",
    "\n",
    "model = Sequential([\n",
    "    layers.Conv2D(64,(3,3),activation = 'relu', input_shape=(28,28,1)),\n",
    "    layers.Conv2D(32,3,padding='same', activation='relu'),\n",
    "    layers.MaxPooling2D(),\n",
    "    layers.Conv2D(16,3,padding='same',activation='relu'),\n",
    "    layers.MaxPooling2D(),\n",
    "    layers.Conv2D(64,3,padding='same',activation='relu'),\n",
    "    layers.MaxPooling2D(),\n",
    "    layers.Flatten(),\n",
    "    layers.Dense(128, activation='relu'),\n",
    "    layers.Dense(10, activation='sigmoid')\n",
    "])"
   ]
  },
  {
   "cell_type": "markdown",
   "id": "ec1eedf7",
   "metadata": {},
   "source": [
    "# MODEL : -"
   ]
  },
  {
   "cell_type": "code",
   "execution_count": 10,
   "id": "46a15d27",
   "metadata": {},
   "outputs": [],
   "source": [
    "model.compile(optimizer='adam',\n",
    "             loss = tf.keras.losses.SparseCategoricalCrossentropy(from_logits=True),\n",
    "             metrics=['accuracy'])"
   ]
  },
  {
   "cell_type": "code",
   "execution_count": 11,
   "id": "9d0c83e5",
   "metadata": {},
   "outputs": [
    {
     "name": "stdout",
     "output_type": "stream",
     "text": [
      "Model: \"sequential\"\n",
      "_________________________________________________________________\n",
      "Layer (type)                 Output Shape              Param #   \n",
      "=================================================================\n",
      "conv2d (Conv2D)              (None, 26, 26, 64)        640       \n",
      "_________________________________________________________________\n",
      "conv2d_1 (Conv2D)            (None, 26, 26, 32)        18464     \n",
      "_________________________________________________________________\n",
      "max_pooling2d (MaxPooling2D) (None, 13, 13, 32)        0         \n",
      "_________________________________________________________________\n",
      "conv2d_2 (Conv2D)            (None, 13, 13, 16)        4624      \n",
      "_________________________________________________________________\n",
      "max_pooling2d_1 (MaxPooling2 (None, 6, 6, 16)          0         \n",
      "_________________________________________________________________\n",
      "conv2d_3 (Conv2D)            (None, 6, 6, 64)          9280      \n",
      "_________________________________________________________________\n",
      "max_pooling2d_2 (MaxPooling2 (None, 3, 3, 64)          0         \n",
      "_________________________________________________________________\n",
      "flatten (Flatten)            (None, 576)               0         \n",
      "_________________________________________________________________\n",
      "dense (Dense)                (None, 128)               73856     \n",
      "_________________________________________________________________\n",
      "dense_1 (Dense)              (None, 10)                1290      \n",
      "=================================================================\n",
      "Total params: 108,154\n",
      "Trainable params: 108,154\n",
      "Non-trainable params: 0\n",
      "_________________________________________________________________\n"
     ]
    }
   ],
   "source": [
    "model.summary()"
   ]
  },
  {
   "cell_type": "markdown",
   "id": "6cf12968",
   "metadata": {},
   "source": [
    "# Training Model"
   ]
  },
  {
   "cell_type": "code",
   "execution_count": 12,
   "id": "0c2fb278",
   "metadata": {},
   "outputs": [
    {
     "name": "stdout",
     "output_type": "stream",
     "text": [
      "Epoch 1/10\n",
      "1875/1875 [==============================] - 159s 85ms/step - loss: 1.5199 - accuracy: 0.9398\n",
      "Epoch 2/10\n",
      "1875/1875 [==============================] - 170s 90ms/step - loss: 1.4814 - accuracy: 0.9773\n",
      "Epoch 3/10\n",
      "1875/1875 [==============================] - 168s 90ms/step - loss: 1.4770 - accuracy: 0.9814\n",
      "Epoch 4/10\n",
      "1875/1875 [==============================] - 162s 86ms/step - loss: 1.4766 - accuracy: 0.9806\n",
      "Epoch 5/10\n",
      "1875/1875 [==============================] - 152s 81ms/step - loss: 1.4748 - accuracy: 0.9819\n",
      "Epoch 6/10\n",
      "1875/1875 [==============================] - 171s 91ms/step - loss: 1.4740 - accuracy: 0.9831\n",
      "Epoch 7/10\n",
      "1875/1875 [==============================] - 164s 88ms/step - loss: 1.4752 - accuracy: 0.9812\n",
      "Epoch 8/10\n",
      "1875/1875 [==============================] - 167s 89ms/step - loss: 1.4745 - accuracy: 0.9805\n",
      "Epoch 9/10\n",
      "1875/1875 [==============================] - 172s 92ms/step - loss: 1.4739 - accuracy: 0.9806\n",
      "Epoch 10/10\n",
      "1875/1875 [==============================] - 169s 90ms/step - loss: 1.4750 - accuracy: 0.9773\n"
     ]
    }
   ],
   "source": [
    "epochs = 10 # no of batches of images = (Total Images)/no of epochs\n",
    "history = model.fit(\n",
    "    train_img,\n",
    "    train_label,\n",
    "    epochs = epochs\n",
    ")"
   ]
  },
  {
   "cell_type": "markdown",
   "id": "d200064d",
   "metadata": {},
   "source": [
    "# Visualizing the Training Data"
   ]
  },
  {
   "cell_type": "code",
   "execution_count": 13,
   "id": "ff3363d0",
   "metadata": {},
   "outputs": [
    {
     "data": {
      "image/png": "[encoded data removed]",
      "text/plain": [
       "<Figure size 576x576 with 1 Axes>"
      ]
     },
     "metadata": {
      "needs_background": "light"
     },
     "output_type": "display_data"
    }
   ],
   "source": [
    "accuracy = history.history['accuracy']\n",
    "loss = history.history['loss']\n",
    "\n",
    "epochs_range = range(epochs)\n",
    "\n",
    "plt.figure(figsize=(8,8))\n",
    "plt.plot(epochs_range,accuracy,label='Training Accuracy')\n",
    "plt.plot(epochs_range,loss,label='Loss')\n",
    "plt.legend(loc ='lower right')\n",
    "plt.title('Training Accuracy and Loss')\n",
    "plt.xlabel('No of Epochs')\n",
    "plt.ylabel('Accuarcy/Loss')\n",
    "plt.show()"
   ]
  },
  {
   "cell_type": "markdown",
   "id": "6277a3c7",
   "metadata": {},
   "source": [
    "# Test Image"
   ]
  },
  {
   "cell_type": "code",
   "execution_count": 14,
   "id": "e75e5efe",
   "metadata": {},
   "outputs": [
    {
     "name": "stdout",
     "output_type": "stream",
     "text": [
      "WARNING:tensorflow:From <ipython-input-14-72c7f06f8ba1>:2: Sequential.predict_classes (from tensorflow.python.keras.engine.sequential) is deprecated and will be removed after 2021-01-01.\n",
      "Instructions for updating:\n",
      "Please use instead:* `np.argmax(model.predict(x), axis=-1)`,   if your model does multi-class classification   (e.g. if it uses a `softmax` last-layer activation).* `(model.predict(x) > 0.5).astype(\"int32\")`,   if your model does binary classification   (e.g. if it uses a `sigmoid` last-layer activation).\n",
      "predicted Number :7\n"
     ]
    },
    {
     "data": {
      "image/png": "[encoded data removed]",
      "text/plain": [
       "<Figure size 432x288 with 1 Axes>"
      ]
     },
     "metadata": {
      "needs_background": "light"
     },
     "output_type": "display_data"
    }
   ],
   "source": [
    "image = (test_img[86]).reshape(1,28,28,1)\n",
    "model_predicted = model.predict_classes(image,verbose=0)\n",
    "plt.imshow(image.reshape(28,28))\n",
    "print(f'predicted Number :{model_predicted[0]}')"
   ]
  },
  {
   "cell_type": "markdown",
   "id": "4b8020df",
   "metadata": {},
   "source": [
    "# SAVING THE MODEL: -"
   ]
  },
  {
   "cell_type": "code",
   "execution_count": 15,
   "id": "4ddce1de",
   "metadata": {},
   "outputs": [],
   "source": [
    "model.save(\"digit_cnn-model.h5\")"
   ]
  },
  {
   "cell_type": "markdown",
   "id": "5bd49e88",
   "metadata": {},
   "source": [
    "# Load Model:- "
   ]
  },
  {
   "cell_type": "code",
   "execution_count": 16,
   "id": "d2842575",
   "metadata": {},
   "outputs": [
    {
     "name": "stdout",
     "output_type": "stream",
     "text": [
      "predicted Number :2\n"
     ]
    },
    {
     "data": {
      "image/png": "[encoded data removed]",
      "text/plain": [
       "<Figure size 432x288 with 1 Axes>"
      ]
     },
     "metadata": {
      "needs_background": "light"
     },
     "output_type": "display_data"
    }
   ],
   "source": [
    "loaded_model = models.load_model(\"digit_cnn-model.h5\")\n",
    "\n",
    "#After loading the model\n",
    "image = (test_img[477]).reshape(1,28,28,1)\n",
    "model_predicted = loaded_model.predict_classes(image,verbose=0)\n",
    "plt.imshow(image.reshape(28,28))\n",
    "print(f'predicted Number :{model_predicted[0]}')"
   ]
  },
  {
   "cell_type": "markdown",
   "id": "b342df19",
   "metadata": {},
   "source": [
    "# ACCURACY"
   ]
  },
  {
   "cell_type": "code",
   "execution_count": 22,
   "id": "a2979c07",
   "metadata": {},
   "outputs": [
    {
     "name": "stdout",
     "output_type": "stream",
     "text": [
      "Accuracy is :0.9815\n"
     ]
    }
   ],
   "source": [
    "acc =0;\n",
    "for i in range(len(test_img)):\n",
    "    image = (test_img[i]).reshape(1,28,28,1)\n",
    "    model_predicted = loaded_model.predict_classes(image,verbose=0)\n",
    "    if(test_label[i]==model_predicted[0]):\n",
    "        acc+=1;\n",
    "print(f'Accuracy is :{acc/len(test_img)}')"
   ]
  },
  {
   "cell_type": "code",
   "execution_count": null,
   "id": "d5a362dd",
   "metadata": {},
   "outputs": [],
   "source": []
  }
 ],
 "metadata": {
  "kernelspec": {
   "display_name": "Python 3",
   "language": "python",
   "name": "python3"
  },
  "language_info": {
   "codemirror_mode": {
    "name": "ipython",
    "version": 3
   },
   "file_extension": ".py",
   "mimetype": "text/x-python",
   "name": "python",
   "nbconvert_exporter": "python",
   "pygments_lexer": "ipython3",
   "version": "3.8.10"
  }
 },
 "nbformat": 4,
 "nbformat_minor": 5
}
