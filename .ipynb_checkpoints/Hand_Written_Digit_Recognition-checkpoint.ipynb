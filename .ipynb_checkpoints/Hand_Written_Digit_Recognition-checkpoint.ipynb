{
 "cells": [
  {
   "cell_type": "markdown",
   "id": "3759ab6f",
   "metadata": {},
   "source": [
    "# HAND WRITTEN DIGIT RECOGNITION :-"
   ]
  },
  {
   "cell_type": "code",
   "execution_count": 146,
   "id": "5b24054e",
   "metadata": {},
   "outputs": [],
   "source": [
    "#importing the libraries\n",
    "import matplotlib.pyplot as plt #for displaying images\n",
    "import matplotlib.image as mpimg\n",
    "import numpy as np #numpy arrays\n",
    "import os #for importing directories\n",
    "import PIL #for images\n",
    "import tensorflow as tf\n",
    "\n",
    "from tensorflow import keras #keras api is being used\n",
    "from tensorflow.keras import layers, datasets, models\n",
    "from tensorflow.keras.models import Sequential #for sequential creation of layers"
   ]
  },
  {
   "cell_type": "markdown",
   "id": "7153e721",
   "metadata": {},
   "source": [
    "# Preparing Dataset :-"
   ]
  },
  {
   "cell_type": "code",
   "execution_count": 147,
   "id": "019474ce",
   "metadata": {},
   "outputs": [
    {
     "name": "stdout",
     "output_type": "stream",
     "text": [
      "(60000, 28, 28)\n",
      "(60000,)\n",
      "(10000, 28, 28)\n",
      "(10000,)\n"
     ]
    }
   ],
   "source": [
    "(train_img,train_label), (test_img,test_label) = datasets.mnist.load_data()\n",
    "\n",
    "print(train_img.shape) #for seeing the shape of the train data set\n",
    "print(train_label.shape) \n",
    "print(test_img.shape)  #for seeing the shape of the test data set\n",
    "print(test_label.shape)"
   ]
  },
  {
   "cell_type": "code",
   "execution_count": 148,
   "id": "803c055f",
   "metadata": {},
   "outputs": [],
   "source": [
    "#There are 60000 training and 10000 test set\n",
    "#size of the image is 28*28"
   ]
  },
  {
   "cell_type": "code",
   "execution_count": 149,
   "id": "6601221c",
   "metadata": {},
   "outputs": [],
   "source": [
    "#Now reshaping the images\n",
    "train_img = train_img.reshape((60000,28,28,1))\n",
    "test_img = test_img.reshape((10000,28,28,1))\n",
    "#reshaped into 4D as it will be easier to build convolutional layes in Keras"
   ]
  },
  {
   "cell_type": "code",
   "execution_count": 150,
   "id": "61d7dcb5",
   "metadata": {},
   "outputs": [
    {
     "name": "stdout",
     "output_type": "stream",
     "text": [
      "Train Image:  (60000, 28, 28, 1)\n",
      "Test Image:  (10000, 28, 28, 1)\n"
     ]
    }
   ],
   "source": [
    "#Normalizing pixel values between 0 and 1\n",
    "train_img, test_img = train_img/255.0, test_img/255.0\n",
    "\n",
    "print('Train Image: ', train_img.shape)\n",
    "print('Test Image: ', test_img.shape)"
   ]
  },
  {
   "cell_type": "code",
   "execution_count": 151,
   "id": "2a33baec",
   "metadata": {},
   "outputs": [
    {
     "data": {
      "text/plain": [
       "array([0, 1, 2, 3, 4, 5, 6, 7, 8, 9], dtype=uint8)"
      ]
     },
     "execution_count": 151,
     "metadata": {},
     "output_type": "execute_result"
    }
   ],
   "source": [
    "np.unique(train_label,return_counts=False)"
   ]
  },
  {
   "cell_type": "code",
   "execution_count": 152,
   "id": "d54b4849",
   "metadata": {},
   "outputs": [
    {
     "data": {
      "text/plain": [
       "array([0, 1, 2, 3, 4, 5, 6, 7, 8, 9], dtype=uint8)"
      ]
     },
     "execution_count": 152,
     "metadata": {},
     "output_type": "execute_result"
    }
   ],
   "source": [
    "np.unique(test_label,return_counts=False)"
   ]
  },
  {
   "cell_type": "code",
   "execution_count": 153,
   "id": "289f007f",
   "metadata": {},
   "outputs": [],
   "source": [
    "#Total 10 classes in the label set"
   ]
  },
  {
   "cell_type": "code",
   "execution_count": 170,
   "id": "7699cf0e",
   "metadata": {},
   "outputs": [],
   "source": [
    "digits = 10 #different classes\n",
    "img_height = 28\n",
    "img_width = 28\n",
    "\n",
    "model = Sequential([\n",
    "    layers.Conv2D(64,(3,3),activation = 'relu', input_shape=(28,28,1)),\n",
    "    layers.Conv2D(32,3,padding='same', activation='relu'),\n",
    "    layers.MaxPooling2D(),\n",
    "    layers.Conv2D(16,3,padding='same',activation='relu'),\n",
    "    layers.MaxPooling2D(),\n",
    "    layers.Conv2D(64,3,padding='same',activation='relu'),\n",
    "    layers.MaxPooling2D(),\n",
    "    layers.Flatten(),\n",
    "    layers.Dense(128, activation='relu'),\n",
    "    layers.Dense(10, activation='sigmoid')\n",
    "])"
   ]
  },
  {
   "cell_type": "markdown",
   "id": "adf71fe2",
   "metadata": {},
   "source": [
    "# MODEL : -"
   ]
  },
  {
   "cell_type": "code",
   "execution_count": 171,
   "id": "a6ed0f08",
   "metadata": {},
   "outputs": [],
   "source": [
    "model.compile(optimizer='adam',\n",
    "             loss = tf.keras.losses.SparseCategoricalCrossentropy(from_logits=True),\n",
    "             metrics=['accuracy'])"
   ]
  },
  {
   "cell_type": "code",
   "execution_count": 172,
   "id": "c2c0f451",
   "metadata": {},
   "outputs": [
    {
     "name": "stdout",
     "output_type": "stream",
     "text": [
      "Model: \"sequential_7\"\n",
      "_________________________________________________________________\n",
      "Layer (type)                 Output Shape              Param #   \n",
      "=================================================================\n",
      "conv2d_29 (Conv2D)           (None, 26, 26, 64)        640       \n",
      "_________________________________________________________________\n",
      "conv2d_30 (Conv2D)           (None, 26, 26, 32)        18464     \n",
      "_________________________________________________________________\n",
      "max_pooling2d_21 (MaxPooling (None, 13, 13, 32)        0         \n",
      "_________________________________________________________________\n",
      "conv2d_31 (Conv2D)           (None, 13, 13, 16)        4624      \n",
      "_________________________________________________________________\n",
      "max_pooling2d_22 (MaxPooling (None, 6, 6, 16)          0         \n",
      "_________________________________________________________________\n",
      "conv2d_32 (Conv2D)           (None, 6, 6, 64)          9280      \n",
      "_________________________________________________________________\n",
      "max_pooling2d_23 (MaxPooling (None, 3, 3, 64)          0         \n",
      "_________________________________________________________________\n",
      "flatten_7 (Flatten)          (None, 576)               0         \n",
      "_________________________________________________________________\n",
      "dense_14 (Dense)             (None, 128)               73856     \n",
      "_________________________________________________________________\n",
      "dense_15 (Dense)             (None, 10)                1290      \n",
      "=================================================================\n",
      "Total params: 108,154\n",
      "Trainable params: 108,154\n",
      "Non-trainable params: 0\n",
      "_________________________________________________________________\n"
     ]
    }
   ],
   "source": [
    "model.summary()"
   ]
  },
  {
   "cell_type": "markdown",
   "id": "c6a4bbf9",
   "metadata": {},
   "source": [
    "# Training Model"
   ]
  },
  {
   "cell_type": "code",
   "execution_count": 173,
   "id": "14445615",
   "metadata": {},
   "outputs": [
    {
     "name": "stdout",
     "output_type": "stream",
     "text": [
      "Epoch 1/10\n",
      "1875/1875 [==============================] - 180s 96ms/step - loss: 1.5212 - accuracy: 0.9381\n",
      "Epoch 2/10\n",
      "1875/1875 [==============================] - 182s 97ms/step - loss: 1.4819 - accuracy: 0.9772\n",
      "Epoch 3/10\n",
      "1875/1875 [==============================] - 172s 92ms/step - loss: 1.4787 - accuracy: 0.9783\n",
      "Epoch 4/10\n",
      "1875/1875 [==============================] - 176s 94ms/step - loss: 1.4765 - accuracy: 0.9789\n",
      "Epoch 5/10\n",
      "1875/1875 [==============================] - 160s 86ms/step - loss: 1.4750 - accuracy: 0.9829\n",
      "Epoch 6/10\n",
      "1875/1875 [==============================] - 158s 84ms/step - loss: 1.4753 - accuracy: 0.9804\n",
      "Epoch 7/10\n",
      "1875/1875 [==============================] - 182s 97ms/step - loss: 1.4757 - accuracy: 0.9787\n",
      "Epoch 8/10\n",
      "1875/1875 [==============================] - 165s 88ms/step - loss: 1.4762 - accuracy: 0.9780\n",
      "Epoch 9/10\n",
      "1875/1875 [==============================] - 163s 87ms/step - loss: 1.4767 - accuracy: 0.9762\n",
      "Epoch 10/10\n",
      "1875/1875 [==============================] - 166s 88ms/step - loss: 1.4773 - accuracy: 0.9735\n"
     ]
    }
   ],
   "source": [
    "epochs = 10 # no of batches of images = (Total Images)/no of epochs\n",
    "history = model.fit(\n",
    "    train_img,\n",
    "    train_label,\n",
    "    epochs = epochs\n",
    ")"
   ]
  },
  {
   "cell_type": "markdown",
   "id": "10fb5966",
   "metadata": {},
   "source": [
    "# Visualizing the Training Data"
   ]
  },
  {
   "cell_type": "code",
   "execution_count": 174,
   "id": "c4f2dc41",
   "metadata": {},
   "outputs": [
    {
     "data": {
      "image/png": "[encoded data removed]",
      "text/plain": [
       "<Figure size 576x576 with 1 Axes>"
      ]
     },
     "metadata": {
      "needs_background": "light"
     },
     "output_type": "display_data"
    }
   ],
   "source": [
    "accuracy = history.history['accuracy']\n",
    "loss = history.history['loss']\n",
    "\n",
    "epochs_range = range(epochs)\n",
    "\n",
    "plt.figure(figsize=(8,8))\n",
    "plt.plot(epochs_range,accuracy,label='Training Accuracy')\n",
    "plt.plot(epochs_range,loss,label='Loss')\n",
    "plt.legend(loc ='lower right')\n",
    "plt.title('Training Accuracy and Loss')\n",
    "plt.xlabel('No of Epochs')\n",
    "plt.ylabel('Accuarcy/Loss')\n",
    "plt.show()"
   ]
  },
  {
   "cell_type": "markdown",
   "id": "9363eaa7",
   "metadata": {},
   "source": [
    "# Test Image"
   ]
  },
  {
   "cell_type": "code",
   "execution_count": 175,
   "id": "746d3868",
   "metadata": {},
   "outputs": [
    {
     "name": "stdout",
     "output_type": "stream",
     "text": [
      "WARNING:tensorflow:8 out of the last 8328 calls to <function Model.make_predict_function.<locals>.predict_function at 0x000001B534100670> triggered tf.function retracing. Tracing is expensive and the excessive number of tracings could be due to (1) creating @tf.function repeatedly in a loop, (2) passing tensors with different shapes, (3) passing Python objects instead of tensors. For (1), please define your @tf.function outside of the loop. For (2), @tf.function has experimental_relax_shapes=True option that relaxes argument shapes that can avoid unnecessary retracing. For (3), please refer to https://www.tensorflow.org/tutorials/customization/performance#python_or_tensor_args and https://www.tensorflow.org/api_docs/python/tf/function for  more details.\n",
      "predicted Number :7\n"
     ]
    },
    {
     "data": {
      "image/png": "[encoded data removed]",
      "text/plain": [
       "<Figure size 432x288 with 1 Axes>"
      ]
     },
     "metadata": {
      "needs_background": "light"
     },
     "output_type": "display_data"
    }
   ],
   "source": [
    "image = (test_img[86]).reshape(1,28,28,1)\n",
    "model_predicted = model.predict_classes(image,verbose=0)\n",
    "plt.imshow(image.reshape(28,28))\n",
    "print(f'predicted Number :{model_predicted[0]}')"
   ]
  },
  {
   "cell_type": "markdown",
   "id": "81129d21",
   "metadata": {},
   "source": [
    "# SAVING THE MODEL: -"
   ]
  },
  {
   "cell_type": "code",
   "execution_count": 176,
   "id": "29c65edf",
   "metadata": {},
   "outputs": [],
   "source": [
    "model.save(\"digit_cnn-model.h5\")"
   ]
  },
  {
   "cell_type": "markdown",
   "id": "edffaf8e",
   "metadata": {},
   "source": [
    "# Load Model:- "
   ]
  },
  {
   "cell_type": "code",
   "execution_count": 177,
   "id": "4f2541b1",
   "metadata": {},
   "outputs": [
    {
     "name": "stdout",
     "output_type": "stream",
     "text": [
      "WARNING:tensorflow:8 out of the last 11 calls to <function Model.make_predict_function.<locals>.predict_function at 0x000001B5341EB670> triggered tf.function retracing. Tracing is expensive and the excessive number of tracings could be due to (1) creating @tf.function repeatedly in a loop, (2) passing tensors with different shapes, (3) passing Python objects instead of tensors. For (1), please define your @tf.function outside of the loop. For (2), @tf.function has experimental_relax_shapes=True option that relaxes argument shapes that can avoid unnecessary retracing. For (3), please refer to https://www.tensorflow.org/tutorials/customization/performance#python_or_tensor_args and https://www.tensorflow.org/api_docs/python/tf/function for  more details.\n",
      "predicted Number :2\n"
     ]
    },
    {
     "data": {
      "image/png": "[encoded data removed]",
      "text/plain": [
       "<Figure size 432x288 with 1 Axes>"
      ]
     },
     "metadata": {
      "needs_background": "light"
     },
     "output_type": "display_data"
    }
   ],
   "source": [
    "loaded_model = models.load_model(\"digit_cnn-model.h5\")\n",
    "\n",
    "#After loading the model\n",
    "image = (test_img[477]).reshape(1,28,28,1)\n",
    "model_predicted = loaded_model.predict_classes(image,verbose=0)\n",
    "plt.imshow(image.reshape(28,28))\n",
    "print(f'predicted Number :{model_predicted[0]}')"
   ]
  },
  {
   "cell_type": "code",
   "execution_count": null,
   "id": "97ba295c",
   "metadata": {},
   "outputs": [],
   "source": []
  }
 ],
 "metadata": {
  "kernelspec": {
   "display_name": "Python 3",
   "language": "python",
   "name": "python3"
  },
  "language_info": {
   "codemirror_mode": {
    "name": "ipython",
    "version": 3
   },
   "file_extension": ".py",
   "mimetype": "text/x-python",
   "name": "python",
   "nbconvert_exporter": "python",
   "pygments_lexer": "ipython3",
   "version": "3.8.10"
  }
 },
 "nbformat": 4,
 "nbformat_minor": 5
}
